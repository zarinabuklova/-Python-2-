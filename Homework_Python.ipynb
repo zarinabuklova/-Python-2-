{
 "cells": [
  {
   "cell_type": "code",
   "execution_count": 4,
   "metadata": {},
   "outputs": [
    {
     "name": "stdout",
     "output_type": "stream",
     "text": [
      "True\n"
     ]
    }
   ],
   "source": [
    "long_phrase = 'Насколько проще было бы писать программы, если бы не заказчики'\n",
    "short_phrase = '640Кб должно хватить для любых задач. Билл Гейтс (по легенде)'\n",
    "print (len (long_phrase) > len (short_phrase))\n"
   ]
  },
  {
   "cell_type": "code",
   "execution_count": 9,
   "metadata": {},
   "outputs": [
    {
     "name": "stdout",
     "output_type": "stream",
     "text": [
      "Объем файла равен 9.54\n"
     ]
    }
   ],
   "source": [
    "byte = 10000000\n",
    "megabyte = byte/1048576\n",
    "print ('Объем файла равен', round (megabyte, 2))"
   ]
  },
  {
   "cell_type": "code",
   "execution_count": 3,
   "metadata": {},
   "outputs": [
    {
     "name": "stdout",
     "output_type": "stream",
     "text": [
      "Введите месяц: Февраль\n",
      "Введите число: 30\n",
      "Вы ввели неверные данные!\n"
     ]
    }
   ],
   "source": [
    "month = input ('Введите месяц: ')\n",
    "date = int (input ('Введите число: '))\n",
    "if (month == 'Январь'and (date > 19 and date < 32)) or (month == 'Февраль' and (date > 0 and date < 20)):\n",
    "    print ('Вывод: Водолей')\n",
    "elif (month == 'Февраль'and (date > 19 and date < 29)) or (month == 'Март' and (date > 0 and date < 22)):\n",
    "    print ('Вывод: Рыбы')\n",
    "elif (month == 'Март'and (date > 21 and date < 32)) or (month == 'Апрель' and (date > 0 and date < 22)):\n",
    "    print ('Вывод: Овен')\n",
    "elif (month == 'Апрель'and (date > 21 and date < 31)) or (month == 'Май' and (date > 0 and date < 22)):\n",
    "    print ('Вывод: Телец')\n",
    "elif (month == 'Май'and (date > 21 and date < 32)) or (month == 'Июнь' and (date > 0 and date < 22)):\n",
    "    print ('Вывод: Близнецы')\n",
    "elif (month == 'Июнь'and (date > 21 and date < 31)) or (month == 'Июль' and (date > 0 and date < 22)):\n",
    "    print ('Вывод: Рак')\n",
    "elif (month == 'Июль'and (date > 21 and date < 32)) or (month == 'Август' and (date > 0 and date < 22)):\n",
    "    print ('Вывод: Лев')\n",
    "elif (month == 'Август' and (date > 21 and date < 32)) or (month == 'Сентябрь' and (date > 0 and date < 22)):\n",
    "    print ('Вывод: Дева')\n",
    "elif (month == 'Сентябрь' and (date > 21 and date < 31)) or (month == 'Октябрь' and (date > 0 and date < 22)):\n",
    "    print ('Вывод: Весы')\n",
    "elif (month == 'Октябрь' and (date > 21 and date < 32)) or (month == 'Ноябрь' and (date > 0 and date < 21)):\n",
    "    print ('Вывод: Скорпион')\n",
    "elif (month == 'Ноябрь' and (date > 20 and date < 31)) or (month == 'Декабрь' and (date > 0 and date < 22)):\n",
    "    print ('Вывод: Стрелец')\n",
    "elif (month == 'Декабрь' and (date > 21 and date < 32)) or (month == 'Январь' and (date > 0 and date < 20)):\n",
    "    print ('Вывод: Козерог')\n",
    "else: \n",
    "    print ('Вы ввели неверные данные!')"
   ]
  },
  {
   "cell_type": "code",
   "execution_count": 9,
   "metadata": {},
   "outputs": [
    {
     "name": "stdout",
     "output_type": "stream",
     "text": [
      "Введите заработанную плату в месяц: 100000\n",
      "Введите сколько процентов уходит на ипотеку: 30\n",
      "Введите сколько процентов уходит на жизнь: 50\n",
      "Введите количество премий за год: 2\n",
      "Вывод: на ипотеку было потрачено: 360000 рублей; было накоплено:  340000 рублей.\n"
     ]
    }
   ],
   "source": [
    "Salary = int (input ('Введите заработанную плату в месяц: '))\n",
    "Mortgage = int (input ('Введите сколько процентов уходит на ипотеку: '))\n",
    "Life = int (input ('Введите сколько процентов уходит на жизнь: '))\n",
    "Bonuses = int (input ('Введите количество премий за год: '))\n",
    "Mortgage_volume = Salary * 12 * Mortgage / 100\n",
    "Pension_volume =  Salary * 12 + Salary * Bonuses  - Salary * 12 * Life / 100 - Mortgage_volume - Salary * Bonuses /2\n",
    "print ('Вывод: на ипотеку было потрачено:', round (Mortgage_volume),'рублей;', 'было накоплено: ', round (Pension_volume), 'рублей.')"
   ]
  },
  {
   "cell_type": "code",
   "execution_count": null,
   "metadata": {},
   "outputs": [],
   "source": []
  }
 ],
 "metadata": {
  "kernelspec": {
   "display_name": "Python 3",
   "language": "python",
   "name": "python3"
  },
  "language_info": {
   "codemirror_mode": {
    "name": "ipython",
    "version": 3
   },
   "file_extension": ".py",
   "mimetype": "text/x-python",
   "name": "python",
   "nbconvert_exporter": "python",
   "pygments_lexer": "ipython3",
   "version": "3.7.6"
  }
 },
 "nbformat": 4,
 "nbformat_minor": 4
}
